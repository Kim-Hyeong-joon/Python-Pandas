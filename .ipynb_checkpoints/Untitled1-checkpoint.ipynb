{
 "cells": [
  {
   "cell_type": "code",
   "execution_count": 6,
   "id": "a2648b70",
   "metadata": {},
   "outputs": [
    {
     "data": {
      "application/vnd.plotly.v1+json": {
       "config": {
        "plotlyServerURL": "https://plot.ly"
       },
       "data": [
        {
         "geo": "geo",
         "hovertemplate": "Deaths=%{text}<br>Country_Region=%{location}<br>Confirmed=%{marker.color}<extra></extra>",
         "legendgroup": "",
         "locationmode": "country names",
         "locations": [
          "US",
          "India",
          "France",
          "Germany",
          "Brazil",
          "Japan",
          "Korea, South",
          "Italy",
          "United Kingdom",
          "Russia",
          "Turkey",
          "Spain",
          "Vietnam",
          "Australia",
          "Argentina",
          "Taiwan*",
          "Netherlands",
          "Iran",
          "Mexico",
          "Indonesia",
          "Poland",
          "Colombia",
          "Austria",
          "Ukraine",
          "Portugal",
          "Greece",
          "Chile",
          "Malaysia",
          "Israel",
          "Thailand",
          "Belgium",
          "China",
          "Czechia",
          "Canada",
          "Peru",
          "Switzerland",
          "Philippines",
          "South Africa",
          "Denmark",
          "Romania",
          "Sweden",
          "Slovakia",
          "Iraq",
          "Serbia",
          "Singapore",
          "Hungary",
          "New Zealand",
          "Bangladesh",
          "Georgia",
          "Jordan",
          "Ireland",
          "Pakistan",
          "Kazakhstan",
          "Norway",
          "Finland",
          "Slovenia",
          "Bulgaria",
          "Lithuania",
          "Morocco",
          "Croatia",
          "Lebanon",
          "Guatemala",
          "Costa Rica",
          "Bolivia",
          "Tunisia",
          "Cuba",
          "United Arab Emirates",
          "Ecuador",
          "Panama",
          "Uruguay",
          "Mongolia",
          "Nepal",
          "Belarus",
          "Latvia",
          "Saudi Arabia",
          "Azerbaijan",
          "Paraguay",
          "West Bank and Gaza",
          "Bahrain",
          "Sri Lanka",
          "Kuwait",
          "Dominican Republic",
          "Cyprus",
          "Burma",
          "Estonia",
          "Moldova",
          "Venezuela",
          "Egypt",
          "Libya",
          "Ethiopia",
          "Qatar",
          "Honduras",
          "Armenia",
          "Bosnia and Herzegovina",
          "Oman",
          "North Macedonia",
          "Kenya",
          "Zambia",
          "Albania",
          "Botswana",
          "Luxembourg",
          "Mauritius",
          "Montenegro",
          "Kosovo",
          "Algeria",
          "Brunei",
          "Nigeria",
          "Zimbabwe",
          "Uzbekistan",
          "Mozambique",
          "Laos",
          "Iceland",
          "Afghanistan",
          "Kyrgyzstan",
          "El Salvador",
          "Trinidad and Tobago",
          "Maldives",
          "Ghana",
          "Namibia",
          "Uganda",
          "Jamaica",
          "Cambodia",
          "Rwanda",
          "Cameroon",
          "Malta",
          "Barbados",
          "Angola",
          "Congo (Kinshasa)",
          "Senegal",
          "Malawi",
          "Cote d'Ivoire",
          "Suriname",
          "Eswatini",
          "Guyana",
          "Belize",
          "Fiji",
          "Madagascar",
          "Sudan",
          "Mauritania",
          "Cabo Verde",
          "Bhutan",
          "Syria",
          "Burundi",
          "Seychelles",
          "Gabon",
          "Andorra",
          "Papua New Guinea",
          "Tanzania",
          "Togo",
          "Guinea",
          "Bahamas",
          "Lesotho",
          "Haiti",
          "Mali",
          "Saint Lucia",
          "Benin",
          "Somalia",
          "Congo (Brazzaville)",
          "Solomon Islands",
          "Timor-Leste",
          "San Marino",
          "Micronesia",
          "Burkina Faso",
          "Liechtenstein",
          "Grenada",
          "South Sudan",
          "Tajikistan",
          "Equatorial Guinea",
          "Tonga",
          "Monaco",
          "Samoa",
          "Dominica",
          "Djibouti",
          "Marshall Islands",
          "Nicaragua",
          "Central African Republic",
          "Gambia",
          "Vanuatu",
          "Yemen",
          "Eritrea",
          "Saint Vincent and the Grenadines",
          "Niger",
          "Antigua and Barbuda",
          "Comoros",
          "Guinea-Bissau",
          "Liberia",
          "Sierra Leone",
          "Chad",
          "Saint Kitts and Nevis",
          "Sao Tome and Principe",
          "Palau",
          "Nauru",
          "Kiribati",
          "Tuvalu",
          "Summer Olympics 2020",
          "Diamond Princess",
          "Winter Olympics 2022",
          "Holy See",
          "Antarctica",
          "MS Zaandam",
          "Korea, North"
         ],
         "marker": {
          "color": [
           101235080,
           44680985,
           39596671,
           37509539,
           36477214,
           30066519,
           29473834,
           25279682,
           24442197,
           21512371,
           17042722,
           13693478,
           11525646,
           11205520,
           9963697,
           9007371,
           8687106,
           7561701,
           7271010,
           6722746,
           6370996,
           6343020,
           5722574,
           5669533,
           5557941,
           5548487,
           5058315,
           5029337,
           4769677,
           4723618,
           4682234,
           4651451,
           4582485,
           4523705,
           4466331,
           4403682,
           4066527,
           4050050,
           3440519,
           3312085,
           2683356,
           2658192,
           2465545,
           2451811,
           2206986,
           2188737,
           2124568,
           2037240,
           1809359,
           1746997,
           1693847,
           1575910,
           1488306,
           1476141,
           1446397,
           1312666,
           1293142,
           1290587,
           1271823,
           1265287,
           1223357,
           1209481,
           1171802,
           1168711,
           1147645,
           1112106,
           1047371,
           1040463,
           1025844,
           1020161,
           1007765,
           1001017,
           994037,
           974529,
           827172,
           826683,
           798231,
           703228,
           699094,
           671923,
           662747,
           659211,
           634709,
           633709,
           612451,
           596914,
           550716,
           515645,
           507153,
           498630,
           490436,
           468048,
           445976,
           401083,
           399154,
           345857,
           342580,
           335339,
           333887,
           328071,
           313505,
           291335,
           285031,
           272323,
           271250,
           270199,
           266450,
           259981,
           249867,
           230970,
           217857,
           208298,
           207766,
           206567,
           201785,
           186279,
           185693,
           171065,
           170295,
           169985,
           152791,
           138617,
           133033,
           123993,
           116593,
           105515,
           105095,
           95173,
           88900,
           88220,
           87950,
           82020,
           74034,
           72397,
           70174,
           68771,
           67750,
           63702,
           63429,
           63207,
           62538,
           57423,
           52162,
           50355,
           48980,
           47781,
           46663,
           42351,
           39346,
           38210,
           37491,
           34790,
           33912,
           32771,
           29759,
           27982,
           27310,
           25375,
           24575,
           23402,
           23176,
           22234,
           22006,
           21318,
           19680,
           18368,
           17786,
           17186,
           16487,
           15992,
           15991,
           15760,
           15690,
           15554,
           15466,
           15351,
           12586,
           12014,
           11945,
           10189,
           9552,
           9473,
           9106,
           8983,
           8947,
           8043,
           7760,
           7651,
           6571,
           6279,
           5976,
           4621,
           3430,
           2805,
           865,
           712,
           535,
           29,
           11,
           9,
           1
          ],
          "coloraxis": "coloraxis",
          "symbol": "circle"
         },
         "mode": "markers+text",
         "name": "",
         "showlegend": false,
         "text": [
          1096489,
          530718,
          163691,
          162688,
          694779,
          58960,
          32556,
          185417,
          214723,
          386057,
          101492,
          117413,
          43186,
          17304,
          130171,
          15445,
          23701,
          144704,
          331263,
          160673,
          118586,
          141959,
          21482,
          118788,
          25805,
          34779,
          63300,
          36870,
          12079,
          33650,
          33395,
          17459,
          42186,
          49525,
          218356,
          14190,
          65454,
          102568,
          7938,
          67408,
          22142,
          20838,
          25375,
          17554,
          1712,
          48546,
          2332,
          29440,
          16899,
          14122,
          8339,
          30638,
          19060,
          4859,
          8263,
          7023,
          38122,
          9497,
          16295,
          17660,
          10750,
          20010,
          9104,
          22315,
          29285,
          8530,
          2348,
          35940,
          8575,
          7570,
          2136,
          12019,
          7118,
          6177,
          9528,
          10013,
          19716,
          5708,
          1539,
          16818,
          2570,
          4384,
          1262,
          19490,
          2872,
          11936,
          5832,
          24802,
          6437,
          7572,
          685,
          11088,
          8716,
          16234,
          4628,
          9614,
          5688,
          4025,
          3596,
          2794,
          1195,
          1041,
          2791,
          3202,
          6881,
          225,
          3155,
          5637,
          1637,
          2230,
          758,
          229,
          7850,
          2991,
          4230,
          4289,
          311,
          1461,
          4082,
          3630,
          3464,
          3056,
          1468,
          1965,
          820,
          568,
          1930,
          1462,
          1968,
          2685,
          833,
          1398,
          1422,
          1290,
          688,
          883,
          1418,
          4995,
          997,
          412,
          21,
          3163,
          38,
          172,
          306,
          165,
          669,
          845,
          290,
          466,
          833,
          723,
          860,
          743,
          409,
          163,
          1361,
          386,
          153,
          138,
          121,
          58,
          395,
          88,
          238,
          138,
          125,
          183,
          12,
          65,
          29,
          74,
          189,
          17,
          245,
          113,
          372,
          14,
          2159,
          103,
          120,
          315,
          146,
          161,
          176,
          294,
          126,
          194,
          46,
          77,
          9,
          1,
          13,
          0,
          0,
          13,
          0,
          0,
          0,
          2,
          6
         ],
         "type": "scattergeo"
        }
       ],
       "layout": {
        "coloraxis": {
         "colorbar": {
          "title": {
           "text": "Confirmed"
          }
         },
         "colorscale": [
          [
           0,
           "#0d0887"
          ],
          [
           0.1111111111111111,
           "#46039f"
          ],
          [
           0.2222222222222222,
           "#7201a8"
          ],
          [
           0.3333333333333333,
           "#9c179e"
          ],
          [
           0.4444444444444444,
           "#bd3786"
          ],
          [
           0.5555555555555556,
           "#d8576b"
          ],
          [
           0.6666666666666666,
           "#ed7953"
          ],
          [
           0.7777777777777778,
           "#fb9f3a"
          ],
          [
           0.8888888888888888,
           "#fdca26"
          ],
          [
           1,
           "#f0f921"
          ]
         ]
        },
        "geo": {
         "center": {},
         "domain": {
          "x": [
           0,
           1
          ],
          "y": [
           0,
           1
          ]
         }
        },
        "legend": {
         "tracegroupgap": 0
        },
        "margin": {
         "t": 60
        },
        "template": {
         "data": {
          "bar": [
           {
            "error_x": {
             "color": "#2a3f5f"
            },
            "error_y": {
             "color": "#2a3f5f"
            },
            "marker": {
             "line": {
              "color": "#E5ECF6",
              "width": 0.5
             },
             "pattern": {
              "fillmode": "overlay",
              "size": 10,
              "solidity": 0.2
             }
            },
            "type": "bar"
           }
          ],
          "barpolar": [
           {
            "marker": {
             "line": {
              "color": "#E5ECF6",
              "width": 0.5
             },
             "pattern": {
              "fillmode": "overlay",
              "size": 10,
              "solidity": 0.2
             }
            },
            "type": "barpolar"
           }
          ],
          "carpet": [
           {
            "aaxis": {
             "endlinecolor": "#2a3f5f",
             "gridcolor": "white",
             "linecolor": "white",
             "minorgridcolor": "white",
             "startlinecolor": "#2a3f5f"
            },
            "baxis": {
             "endlinecolor": "#2a3f5f",
             "gridcolor": "white",
             "linecolor": "white",
             "minorgridcolor": "white",
             "startlinecolor": "#2a3f5f"
            },
            "type": "carpet"
           }
          ],
          "choropleth": [
           {
            "colorbar": {
             "outlinewidth": 0,
             "ticks": ""
            },
            "type": "choropleth"
           }
          ],
          "contour": [
           {
            "colorbar": {
             "outlinewidth": 0,
             "ticks": ""
            },
            "colorscale": [
             [
              0,
              "#0d0887"
             ],
             [
              0.1111111111111111,
              "#46039f"
             ],
             [
              0.2222222222222222,
              "#7201a8"
             ],
             [
              0.3333333333333333,
              "#9c179e"
             ],
             [
              0.4444444444444444,
              "#bd3786"
             ],
             [
              0.5555555555555556,
              "#d8576b"
             ],
             [
              0.6666666666666666,
              "#ed7953"
             ],
             [
              0.7777777777777778,
              "#fb9f3a"
             ],
             [
              0.8888888888888888,
              "#fdca26"
             ],
             [
              1,
              "#f0f921"
             ]
            ],
            "type": "contour"
           }
          ],
          "contourcarpet": [
           {
            "colorbar": {
             "outlinewidth": 0,
             "ticks": ""
            },
            "type": "contourcarpet"
           }
          ],
          "heatmap": [
           {
            "colorbar": {
             "outlinewidth": 0,
             "ticks": ""
            },
            "colorscale": [
             [
              0,
              "#0d0887"
             ],
             [
              0.1111111111111111,
              "#46039f"
             ],
             [
              0.2222222222222222,
              "#7201a8"
             ],
             [
              0.3333333333333333,
              "#9c179e"
             ],
             [
              0.4444444444444444,
              "#bd3786"
             ],
             [
              0.5555555555555556,
              "#d8576b"
             ],
             [
              0.6666666666666666,
              "#ed7953"
             ],
             [
              0.7777777777777778,
              "#fb9f3a"
             ],
             [
              0.8888888888888888,
              "#fdca26"
             ],
             [
              1,
              "#f0f921"
             ]
            ],
            "type": "heatmap"
           }
          ],
          "heatmapgl": [
           {
            "colorbar": {
             "outlinewidth": 0,
             "ticks": ""
            },
            "colorscale": [
             [
              0,
              "#0d0887"
             ],
             [
              0.1111111111111111,
              "#46039f"
             ],
             [
              0.2222222222222222,
              "#7201a8"
             ],
             [
              0.3333333333333333,
              "#9c179e"
             ],
             [
              0.4444444444444444,
              "#bd3786"
             ],
             [
              0.5555555555555556,
              "#d8576b"
             ],
             [
              0.6666666666666666,
              "#ed7953"
             ],
             [
              0.7777777777777778,
              "#fb9f3a"
             ],
             [
              0.8888888888888888,
              "#fdca26"
             ],
             [
              1,
              "#f0f921"
             ]
            ],
            "type": "heatmapgl"
           }
          ],
          "histogram": [
           {
            "marker": {
             "pattern": {
              "fillmode": "overlay",
              "size": 10,
              "solidity": 0.2
             }
            },
            "type": "histogram"
           }
          ],
          "histogram2d": [
           {
            "colorbar": {
             "outlinewidth": 0,
             "ticks": ""
            },
            "colorscale": [
             [
              0,
              "#0d0887"
             ],
             [
              0.1111111111111111,
              "#46039f"
             ],
             [
              0.2222222222222222,
              "#7201a8"
             ],
             [
              0.3333333333333333,
              "#9c179e"
             ],
             [
              0.4444444444444444,
              "#bd3786"
             ],
             [
              0.5555555555555556,
              "#d8576b"
             ],
             [
              0.6666666666666666,
              "#ed7953"
             ],
             [
              0.7777777777777778,
              "#fb9f3a"
             ],
             [
              0.8888888888888888,
              "#fdca26"
             ],
             [
              1,
              "#f0f921"
             ]
            ],
            "type": "histogram2d"
           }
          ],
          "histogram2dcontour": [
           {
            "colorbar": {
             "outlinewidth": 0,
             "ticks": ""
            },
            "colorscale": [
             [
              0,
              "#0d0887"
             ],
             [
              0.1111111111111111,
              "#46039f"
             ],
             [
              0.2222222222222222,
              "#7201a8"
             ],
             [
              0.3333333333333333,
              "#9c179e"
             ],
             [
              0.4444444444444444,
              "#bd3786"
             ],
             [
              0.5555555555555556,
              "#d8576b"
             ],
             [
              0.6666666666666666,
              "#ed7953"
             ],
             [
              0.7777777777777778,
              "#fb9f3a"
             ],
             [
              0.8888888888888888,
              "#fdca26"
             ],
             [
              1,
              "#f0f921"
             ]
            ],
            "type": "histogram2dcontour"
           }
          ],
          "mesh3d": [
           {
            "colorbar": {
             "outlinewidth": 0,
             "ticks": ""
            },
            "type": "mesh3d"
           }
          ],
          "parcoords": [
           {
            "line": {
             "colorbar": {
              "outlinewidth": 0,
              "ticks": ""
             }
            },
            "type": "parcoords"
           }
          ],
          "pie": [
           {
            "automargin": true,
            "type": "pie"
           }
          ],
          "scatter": [
           {
            "fillpattern": {
             "fillmode": "overlay",
             "size": 10,
             "solidity": 0.2
            },
            "type": "scatter"
           }
          ],
          "scatter3d": [
           {
            "line": {
             "colorbar": {
              "outlinewidth": 0,
              "ticks": ""
             }
            },
            "marker": {
             "colorbar": {
              "outlinewidth": 0,
              "ticks": ""
             }
            },
            "type": "scatter3d"
           }
          ],
          "scattercarpet": [
           {
            "marker": {
             "colorbar": {
              "outlinewidth": 0,
              "ticks": ""
             }
            },
            "type": "scattercarpet"
           }
          ],
          "scattergeo": [
           {
            "marker": {
             "colorbar": {
              "outlinewidth": 0,
              "ticks": ""
             }
            },
            "type": "scattergeo"
           }
          ],
          "scattergl": [
           {
            "marker": {
             "colorbar": {
              "outlinewidth": 0,
              "ticks": ""
             }
            },
            "type": "scattergl"
           }
          ],
          "scattermapbox": [
           {
            "marker": {
             "colorbar": {
              "outlinewidth": 0,
              "ticks": ""
             }
            },
            "type": "scattermapbox"
           }
          ],
          "scatterpolar": [
           {
            "marker": {
             "colorbar": {
              "outlinewidth": 0,
              "ticks": ""
             }
            },
            "type": "scatterpolar"
           }
          ],
          "scatterpolargl": [
           {
            "marker": {
             "colorbar": {
              "outlinewidth": 0,
              "ticks": ""
             }
            },
            "type": "scatterpolargl"
           }
          ],
          "scatterternary": [
           {
            "marker": {
             "colorbar": {
              "outlinewidth": 0,
              "ticks": ""
             }
            },
            "type": "scatterternary"
           }
          ],
          "surface": [
           {
            "colorbar": {
             "outlinewidth": 0,
             "ticks": ""
            },
            "colorscale": [
             [
              0,
              "#0d0887"
             ],
             [
              0.1111111111111111,
              "#46039f"
             ],
             [
              0.2222222222222222,
              "#7201a8"
             ],
             [
              0.3333333333333333,
              "#9c179e"
             ],
             [
              0.4444444444444444,
              "#bd3786"
             ],
             [
              0.5555555555555556,
              "#d8576b"
             ],
             [
              0.6666666666666666,
              "#ed7953"
             ],
             [
              0.7777777777777778,
              "#fb9f3a"
             ],
             [
              0.8888888888888888,
              "#fdca26"
             ],
             [
              1,
              "#f0f921"
             ]
            ],
            "type": "surface"
           }
          ],
          "table": [
           {
            "cells": {
             "fill": {
              "color": "#EBF0F8"
             },
             "line": {
              "color": "white"
             }
            },
            "header": {
             "fill": {
              "color": "#C8D4E3"
             },
             "line": {
              "color": "white"
             }
            },
            "type": "table"
           }
          ]
         },
         "layout": {
          "annotationdefaults": {
           "arrowcolor": "#2a3f5f",
           "arrowhead": 0,
           "arrowwidth": 1
          },
          "autotypenumbers": "strict",
          "coloraxis": {
           "colorbar": {
            "outlinewidth": 0,
            "ticks": ""
           }
          },
          "colorscale": {
           "diverging": [
            [
             0,
             "#8e0152"
            ],
            [
             0.1,
             "#c51b7d"
            ],
            [
             0.2,
             "#de77ae"
            ],
            [
             0.3,
             "#f1b6da"
            ],
            [
             0.4,
             "#fde0ef"
            ],
            [
             0.5,
             "#f7f7f7"
            ],
            [
             0.6,
             "#e6f5d0"
            ],
            [
             0.7,
             "#b8e186"
            ],
            [
             0.8,
             "#7fbc41"
            ],
            [
             0.9,
             "#4d9221"
            ],
            [
             1,
             "#276419"
            ]
           ],
           "sequential": [
            [
             0,
             "#0d0887"
            ],
            [
             0.1111111111111111,
             "#46039f"
            ],
            [
             0.2222222222222222,
             "#7201a8"
            ],
            [
             0.3333333333333333,
             "#9c179e"
            ],
            [
             0.4444444444444444,
             "#bd3786"
            ],
            [
             0.5555555555555556,
             "#d8576b"
            ],
            [
             0.6666666666666666,
             "#ed7953"
            ],
            [
             0.7777777777777778,
             "#fb9f3a"
            ],
            [
             0.8888888888888888,
             "#fdca26"
            ],
            [
             1,
             "#f0f921"
            ]
           ],
           "sequentialminus": [
            [
             0,
             "#0d0887"
            ],
            [
             0.1111111111111111,
             "#46039f"
            ],
            [
             0.2222222222222222,
             "#7201a8"
            ],
            [
             0.3333333333333333,
             "#9c179e"
            ],
            [
             0.4444444444444444,
             "#bd3786"
            ],
            [
             0.5555555555555556,
             "#d8576b"
            ],
            [
             0.6666666666666666,
             "#ed7953"
            ],
            [
             0.7777777777777778,
             "#fb9f3a"
            ],
            [
             0.8888888888888888,
             "#fdca26"
            ],
            [
             1,
             "#f0f921"
            ]
           ]
          },
          "colorway": [
           "#636efa",
           "#EF553B",
           "#00cc96",
           "#ab63fa",
           "#FFA15A",
           "#19d3f3",
           "#FF6692",
           "#B6E880",
           "#FF97FF",
           "#FECB52"
          ],
          "font": {
           "color": "#2a3f5f"
          },
          "geo": {
           "bgcolor": "white",
           "lakecolor": "white",
           "landcolor": "#E5ECF6",
           "showlakes": true,
           "showland": true,
           "subunitcolor": "white"
          },
          "hoverlabel": {
           "align": "left"
          },
          "hovermode": "closest",
          "mapbox": {
           "style": "light"
          },
          "paper_bgcolor": "white",
          "plot_bgcolor": "#E5ECF6",
          "polar": {
           "angularaxis": {
            "gridcolor": "white",
            "linecolor": "white",
            "ticks": ""
           },
           "bgcolor": "#E5ECF6",
           "radialaxis": {
            "gridcolor": "white",
            "linecolor": "white",
            "ticks": ""
           }
          },
          "scene": {
           "xaxis": {
            "backgroundcolor": "#E5ECF6",
            "gridcolor": "white",
            "gridwidth": 2,
            "linecolor": "white",
            "showbackground": true,
            "ticks": "",
            "zerolinecolor": "white"
           },
           "yaxis": {
            "backgroundcolor": "#E5ECF6",
            "gridcolor": "white",
            "gridwidth": 2,
            "linecolor": "white",
            "showbackground": true,
            "ticks": "",
            "zerolinecolor": "white"
           },
           "zaxis": {
            "backgroundcolor": "#E5ECF6",
            "gridcolor": "white",
            "gridwidth": 2,
            "linecolor": "white",
            "showbackground": true,
            "ticks": "",
            "zerolinecolor": "white"
           }
          },
          "shapedefaults": {
           "line": {
            "color": "#2a3f5f"
           }
          },
          "ternary": {
           "aaxis": {
            "gridcolor": "white",
            "linecolor": "white",
            "ticks": ""
           },
           "baxis": {
            "gridcolor": "white",
            "linecolor": "white",
            "ticks": ""
           },
           "bgcolor": "#E5ECF6",
           "caxis": {
            "gridcolor": "white",
            "linecolor": "white",
            "ticks": ""
           }
          },
          "title": {
           "x": 0.05
          },
          "xaxis": {
           "automargin": true,
           "gridcolor": "white",
           "linecolor": "white",
           "ticks": "",
           "title": {
            "standoff": 15
           },
           "zerolinecolor": "white",
           "zerolinewidth": 2
          },
          "yaxis": {
           "automargin": true,
           "gridcolor": "white",
           "linecolor": "white",
           "ticks": "",
           "title": {
            "standoff": 15
           },
           "zerolinecolor": "white",
           "zerolinewidth": 2
          }
         }
        }
       }
      },
      "text/html": [
       "<div>                            <div id=\"3c5784bc-e4b3-4a0e-9b85-ed71073bd689\" class=\"plotly-graph-div\" style=\"height:525px; width:100%;\"></div>            <script type=\"text/javascript\">                require([\"plotly\"], function(Plotly) {                    window.PLOTLYENV=window.PLOTLYENV || {};                                    if (document.getElementById(\"3c5784bc-e4b3-4a0e-9b85-ed71073bd689\")) {                    Plotly.newPlot(                        \"3c5784bc-e4b3-4a0e-9b85-ed71073bd689\",                        [{\"geo\":\"geo\",\"hovertemplate\":\"Deaths=%{text}<br>Country_Region=%{location}<br>Confirmed=%{marker.color}<extra></extra>\",\"legendgroup\":\"\",\"locationmode\":\"country names\",\"locations\":[\"US\",\"India\",\"France\",\"Germany\",\"Brazil\",\"Japan\",\"Korea, South\",\"Italy\",\"United Kingdom\",\"Russia\",\"Turkey\",\"Spain\",\"Vietnam\",\"Australia\",\"Argentina\",\"Taiwan*\",\"Netherlands\",\"Iran\",\"Mexico\",\"Indonesia\",\"Poland\",\"Colombia\",\"Austria\",\"Ukraine\",\"Portugal\",\"Greece\",\"Chile\",\"Malaysia\",\"Israel\",\"Thailand\",\"Belgium\",\"China\",\"Czechia\",\"Canada\",\"Peru\",\"Switzerland\",\"Philippines\",\"South Africa\",\"Denmark\",\"Romania\",\"Sweden\",\"Slovakia\",\"Iraq\",\"Serbia\",\"Singapore\",\"Hungary\",\"New Zealand\",\"Bangladesh\",\"Georgia\",\"Jordan\",\"Ireland\",\"Pakistan\",\"Kazakhstan\",\"Norway\",\"Finland\",\"Slovenia\",\"Bulgaria\",\"Lithuania\",\"Morocco\",\"Croatia\",\"Lebanon\",\"Guatemala\",\"Costa Rica\",\"Bolivia\",\"Tunisia\",\"Cuba\",\"United Arab Emirates\",\"Ecuador\",\"Panama\",\"Uruguay\",\"Mongolia\",\"Nepal\",\"Belarus\",\"Latvia\",\"Saudi Arabia\",\"Azerbaijan\",\"Paraguay\",\"West Bank and Gaza\",\"Bahrain\",\"Sri Lanka\",\"Kuwait\",\"Dominican Republic\",\"Cyprus\",\"Burma\",\"Estonia\",\"Moldova\",\"Venezuela\",\"Egypt\",\"Libya\",\"Ethiopia\",\"Qatar\",\"Honduras\",\"Armenia\",\"Bosnia and Herzegovina\",\"Oman\",\"North Macedonia\",\"Kenya\",\"Zambia\",\"Albania\",\"Botswana\",\"Luxembourg\",\"Mauritius\",\"Montenegro\",\"Kosovo\",\"Algeria\",\"Brunei\",\"Nigeria\",\"Zimbabwe\",\"Uzbekistan\",\"Mozambique\",\"Laos\",\"Iceland\",\"Afghanistan\",\"Kyrgyzstan\",\"El Salvador\",\"Trinidad and Tobago\",\"Maldives\",\"Ghana\",\"Namibia\",\"Uganda\",\"Jamaica\",\"Cambodia\",\"Rwanda\",\"Cameroon\",\"Malta\",\"Barbados\",\"Angola\",\"Congo (Kinshasa)\",\"Senegal\",\"Malawi\",\"Cote d'Ivoire\",\"Suriname\",\"Eswatini\",\"Guyana\",\"Belize\",\"Fiji\",\"Madagascar\",\"Sudan\",\"Mauritania\",\"Cabo Verde\",\"Bhutan\",\"Syria\",\"Burundi\",\"Seychelles\",\"Gabon\",\"Andorra\",\"Papua New Guinea\",\"Tanzania\",\"Togo\",\"Guinea\",\"Bahamas\",\"Lesotho\",\"Haiti\",\"Mali\",\"Saint Lucia\",\"Benin\",\"Somalia\",\"Congo (Brazzaville)\",\"Solomon Islands\",\"Timor-Leste\",\"San Marino\",\"Micronesia\",\"Burkina Faso\",\"Liechtenstein\",\"Grenada\",\"South Sudan\",\"Tajikistan\",\"Equatorial Guinea\",\"Tonga\",\"Monaco\",\"Samoa\",\"Dominica\",\"Djibouti\",\"Marshall Islands\",\"Nicaragua\",\"Central African Republic\",\"Gambia\",\"Vanuatu\",\"Yemen\",\"Eritrea\",\"Saint Vincent and the Grenadines\",\"Niger\",\"Antigua and Barbuda\",\"Comoros\",\"Guinea-Bissau\",\"Liberia\",\"Sierra Leone\",\"Chad\",\"Saint Kitts and Nevis\",\"Sao Tome and Principe\",\"Palau\",\"Nauru\",\"Kiribati\",\"Tuvalu\",\"Summer Olympics 2020\",\"Diamond Princess\",\"Winter Olympics 2022\",\"Holy See\",\"Antarctica\",\"MS Zaandam\",\"Korea, North\"],\"marker\":{\"color\":[101235080,44680985,39596671,37509539,36477214,30066519,29473834,25279682,24442197,21512371,17042722,13693478,11525646,11205520,9963697,9007371,8687106,7561701,7271010,6722746,6370996,6343020,5722574,5669533,5557941,5548487,5058315,5029337,4769677,4723618,4682234,4651451,4582485,4523705,4466331,4403682,4066527,4050050,3440519,3312085,2683356,2658192,2465545,2451811,2206986,2188737,2124568,2037240,1809359,1746997,1693847,1575910,1488306,1476141,1446397,1312666,1293142,1290587,1271823,1265287,1223357,1209481,1171802,1168711,1147645,1112106,1047371,1040463,1025844,1020161,1007765,1001017,994037,974529,827172,826683,798231,703228,699094,671923,662747,659211,634709,633709,612451,596914,550716,515645,507153,498630,490436,468048,445976,401083,399154,345857,342580,335339,333887,328071,313505,291335,285031,272323,271250,270199,266450,259981,249867,230970,217857,208298,207766,206567,201785,186279,185693,171065,170295,169985,152791,138617,133033,123993,116593,105515,105095,95173,88900,88220,87950,82020,74034,72397,70174,68771,67750,63702,63429,63207,62538,57423,52162,50355,48980,47781,46663,42351,39346,38210,37491,34790,33912,32771,29759,27982,27310,25375,24575,23402,23176,22234,22006,21318,19680,18368,17786,17186,16487,15992,15991,15760,15690,15554,15466,15351,12586,12014,11945,10189,9552,9473,9106,8983,8947,8043,7760,7651,6571,6279,5976,4621,3430,2805,865,712,535,29,11,9,1],\"coloraxis\":\"coloraxis\",\"symbol\":\"circle\"},\"mode\":\"markers+text\",\"name\":\"\",\"showlegend\":false,\"text\":[1096489.0,530718.0,163691.0,162688.0,694779.0,58960.0,32556.0,185417.0,214723.0,386057.0,101492.0,117413.0,43186.0,17304.0,130171.0,15445.0,23701.0,144704.0,331263.0,160673.0,118586.0,141959.0,21482.0,118788.0,25805.0,34779.0,63300.0,36870.0,12079.0,33650.0,33395.0,17459.0,42186.0,49525.0,218356.0,14190.0,65454.0,102568.0,7938.0,67408.0,22142.0,20838.0,25375.0,17554.0,1712.0,48546.0,2332.0,29440.0,16899.0,14122.0,8339.0,30638.0,19060.0,4859.0,8263.0,7023.0,38122.0,9497.0,16295.0,17660.0,10750.0,20010.0,9104.0,22315.0,29285.0,8530.0,2348.0,35940.0,8575.0,7570.0,2136.0,12019.0,7118.0,6177.0,9528.0,10013.0,19716.0,5708.0,1539.0,16818.0,2570.0,4384.0,1262.0,19490.0,2872.0,11936.0,5832.0,24802.0,6437.0,7572.0,685.0,11088.0,8716.0,16234.0,4628.0,9614.0,5688.0,4025.0,3596.0,2794.0,1195.0,1041.0,2791.0,3202.0,6881.0,225.0,3155.0,5637.0,1637.0,2230.0,758.0,229.0,7850.0,2991.0,4230.0,4289.0,311.0,1461.0,4082.0,3630.0,3464.0,3056.0,1468.0,1965.0,820.0,568.0,1930.0,1462.0,1968.0,2685.0,833.0,1398.0,1422.0,1290.0,688.0,883.0,1418.0,4995.0,997.0,412.0,21.0,3163.0,38.0,172.0,306.0,165.0,669.0,845.0,290.0,466.0,833.0,723.0,860.0,743.0,409.0,163.0,1361.0,386.0,153.0,138.0,121.0,58.0,395.0,88.0,238.0,138.0,125.0,183.0,12.0,65.0,29.0,74.0,189.0,17.0,245.0,113.0,372.0,14.0,2159.0,103.0,120.0,315.0,146.0,161.0,176.0,294.0,126.0,194.0,46.0,77.0,9.0,1.0,13.0,0.0,0.0,13.0,0.0,0.0,0.0,2.0,6.0],\"type\":\"scattergeo\"}],                        {\"template\":{\"data\":{\"histogram2dcontour\":[{\"type\":\"histogram2dcontour\",\"colorbar\":{\"outlinewidth\":0,\"ticks\":\"\"},\"colorscale\":[[0.0,\"#0d0887\"],[0.1111111111111111,\"#46039f\"],[0.2222222222222222,\"#7201a8\"],[0.3333333333333333,\"#9c179e\"],[0.4444444444444444,\"#bd3786\"],[0.5555555555555556,\"#d8576b\"],[0.6666666666666666,\"#ed7953\"],[0.7777777777777778,\"#fb9f3a\"],[0.8888888888888888,\"#fdca26\"],[1.0,\"#f0f921\"]]}],\"choropleth\":[{\"type\":\"choropleth\",\"colorbar\":{\"outlinewidth\":0,\"ticks\":\"\"}}],\"histogram2d\":[{\"type\":\"histogram2d\",\"colorbar\":{\"outlinewidth\":0,\"ticks\":\"\"},\"colorscale\":[[0.0,\"#0d0887\"],[0.1111111111111111,\"#46039f\"],[0.2222222222222222,\"#7201a8\"],[0.3333333333333333,\"#9c179e\"],[0.4444444444444444,\"#bd3786\"],[0.5555555555555556,\"#d8576b\"],[0.6666666666666666,\"#ed7953\"],[0.7777777777777778,\"#fb9f3a\"],[0.8888888888888888,\"#fdca26\"],[1.0,\"#f0f921\"]]}],\"heatmap\":[{\"type\":\"heatmap\",\"colorbar\":{\"outlinewidth\":0,\"ticks\":\"\"},\"colorscale\":[[0.0,\"#0d0887\"],[0.1111111111111111,\"#46039f\"],[0.2222222222222222,\"#7201a8\"],[0.3333333333333333,\"#9c179e\"],[0.4444444444444444,\"#bd3786\"],[0.5555555555555556,\"#d8576b\"],[0.6666666666666666,\"#ed7953\"],[0.7777777777777778,\"#fb9f3a\"],[0.8888888888888888,\"#fdca26\"],[1.0,\"#f0f921\"]]}],\"heatmapgl\":[{\"type\":\"heatmapgl\",\"colorbar\":{\"outlinewidth\":0,\"ticks\":\"\"},\"colorscale\":[[0.0,\"#0d0887\"],[0.1111111111111111,\"#46039f\"],[0.2222222222222222,\"#7201a8\"],[0.3333333333333333,\"#9c179e\"],[0.4444444444444444,\"#bd3786\"],[0.5555555555555556,\"#d8576b\"],[0.6666666666666666,\"#ed7953\"],[0.7777777777777778,\"#fb9f3a\"],[0.8888888888888888,\"#fdca26\"],[1.0,\"#f0f921\"]]}],\"contourcarpet\":[{\"type\":\"contourcarpet\",\"colorbar\":{\"outlinewidth\":0,\"ticks\":\"\"}}],\"contour\":[{\"type\":\"contour\",\"colorbar\":{\"outlinewidth\":0,\"ticks\":\"\"},\"colorscale\":[[0.0,\"#0d0887\"],[0.1111111111111111,\"#46039f\"],[0.2222222222222222,\"#7201a8\"],[0.3333333333333333,\"#9c179e\"],[0.4444444444444444,\"#bd3786\"],[0.5555555555555556,\"#d8576b\"],[0.6666666666666666,\"#ed7953\"],[0.7777777777777778,\"#fb9f3a\"],[0.8888888888888888,\"#fdca26\"],[1.0,\"#f0f921\"]]}],\"surface\":[{\"type\":\"surface\",\"colorbar\":{\"outlinewidth\":0,\"ticks\":\"\"},\"colorscale\":[[0.0,\"#0d0887\"],[0.1111111111111111,\"#46039f\"],[0.2222222222222222,\"#7201a8\"],[0.3333333333333333,\"#9c179e\"],[0.4444444444444444,\"#bd3786\"],[0.5555555555555556,\"#d8576b\"],[0.6666666666666666,\"#ed7953\"],[0.7777777777777778,\"#fb9f3a\"],[0.8888888888888888,\"#fdca26\"],[1.0,\"#f0f921\"]]}],\"mesh3d\":[{\"type\":\"mesh3d\",\"colorbar\":{\"outlinewidth\":0,\"ticks\":\"\"}}],\"scatter\":[{\"fillpattern\":{\"fillmode\":\"overlay\",\"size\":10,\"solidity\":0.2},\"type\":\"scatter\"}],\"parcoords\":[{\"type\":\"parcoords\",\"line\":{\"colorbar\":{\"outlinewidth\":0,\"ticks\":\"\"}}}],\"scatterpolargl\":[{\"type\":\"scatterpolargl\",\"marker\":{\"colorbar\":{\"outlinewidth\":0,\"ticks\":\"\"}}}],\"bar\":[{\"error_x\":{\"color\":\"#2a3f5f\"},\"error_y\":{\"color\":\"#2a3f5f\"},\"marker\":{\"line\":{\"color\":\"#E5ECF6\",\"width\":0.5},\"pattern\":{\"fillmode\":\"overlay\",\"size\":10,\"solidity\":0.2}},\"type\":\"bar\"}],\"scattergeo\":[{\"type\":\"scattergeo\",\"marker\":{\"colorbar\":{\"outlinewidth\":0,\"ticks\":\"\"}}}],\"scatterpolar\":[{\"type\":\"scatterpolar\",\"marker\":{\"colorbar\":{\"outlinewidth\":0,\"ticks\":\"\"}}}],\"histogram\":[{\"marker\":{\"pattern\":{\"fillmode\":\"overlay\",\"size\":10,\"solidity\":0.2}},\"type\":\"histogram\"}],\"scattergl\":[{\"type\":\"scattergl\",\"marker\":{\"colorbar\":{\"outlinewidth\":0,\"ticks\":\"\"}}}],\"scatter3d\":[{\"type\":\"scatter3d\",\"line\":{\"colorbar\":{\"outlinewidth\":0,\"ticks\":\"\"}},\"marker\":{\"colorbar\":{\"outlinewidth\":0,\"ticks\":\"\"}}}],\"scattermapbox\":[{\"type\":\"scattermapbox\",\"marker\":{\"colorbar\":{\"outlinewidth\":0,\"ticks\":\"\"}}}],\"scatterternary\":[{\"type\":\"scatterternary\",\"marker\":{\"colorbar\":{\"outlinewidth\":0,\"ticks\":\"\"}}}],\"scattercarpet\":[{\"type\":\"scattercarpet\",\"marker\":{\"colorbar\":{\"outlinewidth\":0,\"ticks\":\"\"}}}],\"carpet\":[{\"aaxis\":{\"endlinecolor\":\"#2a3f5f\",\"gridcolor\":\"white\",\"linecolor\":\"white\",\"minorgridcolor\":\"white\",\"startlinecolor\":\"#2a3f5f\"},\"baxis\":{\"endlinecolor\":\"#2a3f5f\",\"gridcolor\":\"white\",\"linecolor\":\"white\",\"minorgridcolor\":\"white\",\"startlinecolor\":\"#2a3f5f\"},\"type\":\"carpet\"}],\"table\":[{\"cells\":{\"fill\":{\"color\":\"#EBF0F8\"},\"line\":{\"color\":\"white\"}},\"header\":{\"fill\":{\"color\":\"#C8D4E3\"},\"line\":{\"color\":\"white\"}},\"type\":\"table\"}],\"barpolar\":[{\"marker\":{\"line\":{\"color\":\"#E5ECF6\",\"width\":0.5},\"pattern\":{\"fillmode\":\"overlay\",\"size\":10,\"solidity\":0.2}},\"type\":\"barpolar\"}],\"pie\":[{\"automargin\":true,\"type\":\"pie\"}]},\"layout\":{\"autotypenumbers\":\"strict\",\"colorway\":[\"#636efa\",\"#EF553B\",\"#00cc96\",\"#ab63fa\",\"#FFA15A\",\"#19d3f3\",\"#FF6692\",\"#B6E880\",\"#FF97FF\",\"#FECB52\"],\"font\":{\"color\":\"#2a3f5f\"},\"hovermode\":\"closest\",\"hoverlabel\":{\"align\":\"left\"},\"paper_bgcolor\":\"white\",\"plot_bgcolor\":\"#E5ECF6\",\"polar\":{\"bgcolor\":\"#E5ECF6\",\"angularaxis\":{\"gridcolor\":\"white\",\"linecolor\":\"white\",\"ticks\":\"\"},\"radialaxis\":{\"gridcolor\":\"white\",\"linecolor\":\"white\",\"ticks\":\"\"}},\"ternary\":{\"bgcolor\":\"#E5ECF6\",\"aaxis\":{\"gridcolor\":\"white\",\"linecolor\":\"white\",\"ticks\":\"\"},\"baxis\":{\"gridcolor\":\"white\",\"linecolor\":\"white\",\"ticks\":\"\"},\"caxis\":{\"gridcolor\":\"white\",\"linecolor\":\"white\",\"ticks\":\"\"}},\"coloraxis\":{\"colorbar\":{\"outlinewidth\":0,\"ticks\":\"\"}},\"colorscale\":{\"sequential\":[[0.0,\"#0d0887\"],[0.1111111111111111,\"#46039f\"],[0.2222222222222222,\"#7201a8\"],[0.3333333333333333,\"#9c179e\"],[0.4444444444444444,\"#bd3786\"],[0.5555555555555556,\"#d8576b\"],[0.6666666666666666,\"#ed7953\"],[0.7777777777777778,\"#fb9f3a\"],[0.8888888888888888,\"#fdca26\"],[1.0,\"#f0f921\"]],\"sequentialminus\":[[0.0,\"#0d0887\"],[0.1111111111111111,\"#46039f\"],[0.2222222222222222,\"#7201a8\"],[0.3333333333333333,\"#9c179e\"],[0.4444444444444444,\"#bd3786\"],[0.5555555555555556,\"#d8576b\"],[0.6666666666666666,\"#ed7953\"],[0.7777777777777778,\"#fb9f3a\"],[0.8888888888888888,\"#fdca26\"],[1.0,\"#f0f921\"]],\"diverging\":[[0,\"#8e0152\"],[0.1,\"#c51b7d\"],[0.2,\"#de77ae\"],[0.3,\"#f1b6da\"],[0.4,\"#fde0ef\"],[0.5,\"#f7f7f7\"],[0.6,\"#e6f5d0\"],[0.7,\"#b8e186\"],[0.8,\"#7fbc41\"],[0.9,\"#4d9221\"],[1,\"#276419\"]]},\"xaxis\":{\"gridcolor\":\"white\",\"linecolor\":\"white\",\"ticks\":\"\",\"title\":{\"standoff\":15},\"zerolinecolor\":\"white\",\"automargin\":true,\"zerolinewidth\":2},\"yaxis\":{\"gridcolor\":\"white\",\"linecolor\":\"white\",\"ticks\":\"\",\"title\":{\"standoff\":15},\"zerolinecolor\":\"white\",\"automargin\":true,\"zerolinewidth\":2},\"scene\":{\"xaxis\":{\"backgroundcolor\":\"#E5ECF6\",\"gridcolor\":\"white\",\"linecolor\":\"white\",\"showbackground\":true,\"ticks\":\"\",\"zerolinecolor\":\"white\",\"gridwidth\":2},\"yaxis\":{\"backgroundcolor\":\"#E5ECF6\",\"gridcolor\":\"white\",\"linecolor\":\"white\",\"showbackground\":true,\"ticks\":\"\",\"zerolinecolor\":\"white\",\"gridwidth\":2},\"zaxis\":{\"backgroundcolor\":\"#E5ECF6\",\"gridcolor\":\"white\",\"linecolor\":\"white\",\"showbackground\":true,\"ticks\":\"\",\"zerolinecolor\":\"white\",\"gridwidth\":2}},\"shapedefaults\":{\"line\":{\"color\":\"#2a3f5f\"}},\"annotationdefaults\":{\"arrowcolor\":\"#2a3f5f\",\"arrowhead\":0,\"arrowwidth\":1},\"geo\":{\"bgcolor\":\"white\",\"landcolor\":\"#E5ECF6\",\"subunitcolor\":\"white\",\"showland\":true,\"showlakes\":true,\"lakecolor\":\"white\"},\"title\":{\"x\":0.05},\"mapbox\":{\"style\":\"light\"}}},\"geo\":{\"domain\":{\"x\":[0.0,1.0],\"y\":[0.0,1.0]},\"center\":{}},\"coloraxis\":{\"colorbar\":{\"title\":{\"text\":\"Confirmed\"}},\"colorscale\":[[0.0,\"#0d0887\"],[0.1111111111111111,\"#46039f\"],[0.2222222222222222,\"#7201a8\"],[0.3333333333333333,\"#9c179e\"],[0.4444444444444444,\"#bd3786\"],[0.5555555555555556,\"#d8576b\"],[0.6666666666666666,\"#ed7953\"],[0.7777777777777778,\"#fb9f3a\"],[0.8888888888888888,\"#fdca26\"],[1.0,\"#f0f921\"]]},\"legend\":{\"tracegroupgap\":0},\"margin\":{\"t\":60}},                        {\"responsive\": true}                    ).then(function(){\n",
       "                            \n",
       "var gd = document.getElementById('3c5784bc-e4b3-4a0e-9b85-ed71073bd689');\n",
       "var x = new MutationObserver(function (mutations, observer) {{\n",
       "        var display = window.getComputedStyle(gd).display;\n",
       "        if (!display || display === 'none') {{\n",
       "            console.log([gd, 'removed!']);\n",
       "            Plotly.purge(gd);\n",
       "            observer.disconnect();\n",
       "        }}\n",
       "}});\n",
       "\n",
       "// Listen for the removal of the full notebook cells\n",
       "var notebookContainer = gd.closest('#notebook-container');\n",
       "if (notebookContainer) {{\n",
       "    x.observe(notebookContainer, {childList: true});\n",
       "}}\n",
       "\n",
       "// Listen for the clearing of the current output cell\n",
       "var outputEl = gd.closest('.output');\n",
       "if (outputEl) {{\n",
       "    x.observe(outputEl, {childList: true});\n",
       "}}\n",
       "\n",
       "                        })                };                });            </script>        </div>"
      ]
     },
     "metadata": {},
     "output_type": "display_data"
    }
   ],
   "source": [
    "import plotly.express as px\n",
    "from data import countries_df\n",
    "\n",
    "map_figure = px.scatter_geo(countries_df, locations=\"Country_Region\", locationmode=\"country names\", color=\"Confirmed\", )\n",
    "map_figure.show()"
   ]
  }
 ],
 "metadata": {
  "kernelspec": {
   "display_name": "Python 3 (ipykernel)",
   "language": "python",
   "name": "python3"
  },
  "language_info": {
   "codemirror_mode": {
    "name": "ipython",
    "version": 3
   },
   "file_extension": ".py",
   "mimetype": "text/x-python",
   "name": "python",
   "nbconvert_exporter": "python",
   "pygments_lexer": "ipython3",
   "version": "3.11.1"
  }
 },
 "nbformat": 4,
 "nbformat_minor": 5
}
